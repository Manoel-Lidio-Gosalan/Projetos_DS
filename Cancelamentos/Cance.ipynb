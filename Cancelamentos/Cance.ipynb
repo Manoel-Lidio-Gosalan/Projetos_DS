{
 "cells": [
  {
   "cell_type": "markdown",
   "metadata": {},
   "source": [
    "### Case - Cancelamento de Clientes\n",
    "\n",
    "Recentemente a empresa percebeu que da sua base total de clientes, a maioria são clientes inativos, ou seja, que já cancelaram o serviço.\n",
    "\n",
    "Precisando melhorar seus resultados ela quer conseguir entender os principais motivos desses cancelamentos e quais as ações mais eficientes para reduzir esse número."
   ]
  },
  {
   "cell_type": "code",
   "execution_count": 3,
   "metadata": {},
   "outputs": [
    {
     "name": "stdout",
     "output_type": "stream",
     "text": [
      "<class 'pandas.core.frame.DataFrame'>\n",
      "RangeIndex: 881666 entries, 0 to 881665\n",
      "Data columns (total 12 columns):\n",
      " #   Column                  Non-Null Count   Dtype  \n",
      "---  ------                  --------------   -----  \n",
      " 0   CustomerID              881664 non-null  float64\n",
      " 1   idade                   881664 non-null  float64\n",
      " 2   sexo                    881664 non-null  object \n",
      " 3   tempo_como_cliente      881663 non-null  float64\n",
      " 4   frequencia_uso          881663 non-null  float64\n",
      " 5   ligacoes_callcenter     881664 non-null  float64\n",
      " 6   dias_atraso             881664 non-null  float64\n",
      " 7   assinatura              881661 non-null  object \n",
      " 8   duracao_contrato        881663 non-null  object \n",
      " 9   total_gasto             881664 non-null  float64\n",
      " 10  meses_ultima_interacao  881664 non-null  float64\n",
      " 11  cancelou                881664 non-null  float64\n",
      "dtypes: float64(9), object(3)\n",
      "memory usage: 80.7+ MB\n"
     ]
    },
    {
     "data": {
      "text/plain": [
       "None"
      ]
     },
     "metadata": {},
     "output_type": "display_data"
    }
   ],
   "source": [
    "import pandas as pd\n",
    "\n",
    "# importar o arquivo csv para um dataframe\n",
    "tabela = pd.read_csv('cancelamentos.csv')\n",
    "# Vizualizar os dados\n",
    "display(tabela.info())"
   ]
  },
  {
   "cell_type": "code",
   "execution_count": 4,
   "metadata": {},
   "outputs": [
    {
     "name": "stdout",
     "output_type": "stream",
     "text": [
      "<class 'pandas.core.frame.DataFrame'>\n",
      "Index: 881659 entries, 0 to 881665\n",
      "Data columns (total 10 columns):\n",
      " #   Column                  Non-Null Count   Dtype  \n",
      "---  ------                  --------------   -----  \n",
      " 0   idade                   881659 non-null  float64\n",
      " 1   tempo_como_cliente      881659 non-null  float64\n",
      " 2   frequencia_uso          881659 non-null  float64\n",
      " 3   ligacoes_callcenter     881659 non-null  float64\n",
      " 4   dias_atraso             881659 non-null  float64\n",
      " 5   assinatura              881659 non-null  object \n",
      " 6   duracao_contrato        881659 non-null  object \n",
      " 7   total_gasto             881659 non-null  float64\n",
      " 8   meses_ultima_interacao  881659 non-null  float64\n",
      " 9   cancelou                881659 non-null  float64\n",
      "dtypes: float64(8), object(2)\n",
      "memory usage: 74.0+ MB\n"
     ]
    },
    {
     "data": {
      "text/plain": [
       "None"
      ]
     },
     "metadata": {},
     "output_type": "display_data"
    }
   ],
   "source": [
    "# Tratamento de Erros\n",
    "    # 1. Valores vazios\n",
    "    # 2. Valores informações inuteis\n",
    "    \n",
    "\n",
    "\n",
    "tabela = tabela.drop(['CustomerID','sexo'], axis=1)\n",
    "tabela = tabela.dropna()\n",
    "display(tabela.info())"
   ]
  },
  {
   "cell_type": "code",
   "execution_count": 5,
   "metadata": {},
   "outputs": [
    {
     "data": {
      "text/plain": [
       "cancelou\n",
       "1.0    499993\n",
       "0.0    381666\n",
       "Name: count, dtype: int64"
      ]
     },
     "metadata": {},
     "output_type": "display_data"
    },
    {
     "data": {
      "text/plain": [
       "cancelou\n",
       "1.0    56.7%\n",
       "0.0    43.3%\n",
       "Name: proportion, dtype: object"
      ]
     },
     "metadata": {},
     "output_type": "display_data"
    }
   ],
   "source": [
    "# Analise de Dados entender estão os cancelamentos\n",
    "display(tabela['cancelou'].value_counts())\n",
    "display(tabela['cancelou'].value_counts(normalize=True).map('{:.1%}'.format))\n"
   ]
  }
 ],
 "metadata": {
  "kernelspec": {
   "display_name": "Python 3",
   "language": "python",
   "name": "python3"
  },
  "language_info": {
   "codemirror_mode": {
    "name": "ipython",
    "version": 3
   },
   "file_extension": ".py",
   "mimetype": "text/x-python",
   "name": "python",
   "nbconvert_exporter": "python",
   "pygments_lexer": "ipython3",
   "version": "3.11.4"
  },
  "orig_nbformat": 4
 },
 "nbformat": 4,
 "nbformat_minor": 2
}
