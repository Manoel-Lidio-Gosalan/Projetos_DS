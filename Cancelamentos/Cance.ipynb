version https://git-lfs.github.com/spec/v1
oid sha256:d657130d7367a8dd2baa8d66a11ff0f7208b2d35b76f5825eaec1006fed5ecae
size 15600
